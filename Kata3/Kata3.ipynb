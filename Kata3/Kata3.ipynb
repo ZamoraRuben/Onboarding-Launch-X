{
 "cells": [
  {
   "cell_type": "markdown",
   "metadata": {},
   "source": [
    "# Ejercicio No.1\n"
   ]
  },
  {
   "cell_type": "code",
   "execution_count": 1,
   "metadata": {},
   "outputs": [
    {
     "name": "stdout",
     "output_type": "stream",
     "text": [
      "¡Atencion, un asteroide se acerca a alta velocidad!\n"
     ]
    }
   ],
   "source": [
    "asteroidVelocity = int(input())\n",
    "\n",
    "if asteroidVelocity >= 25:\n",
    "    print('¡Atencion, un asteroide se acerca a alta velocidad!')\n",
    "else:\n",
    "    ('Nada nuevo hoy.')"
   ]
  },
  {
   "cell_type": "markdown",
   "metadata": {},
   "source": [
    "# Ejercicio 2\n"
   ]
  },
  {
   "cell_type": "code",
   "execution_count": 2,
   "metadata": {},
   "outputs": [
    {
     "name": "stdout",
     "output_type": "stream",
     "text": [
      "¡Nada que ver aquí!\n"
     ]
    }
   ],
   "source": [
    "asteroide = 19\n",
    "if asteroide >= 20:\n",
    "    print('Atencion! ¡Arriba Hay una luz mágica en el cielo!')\n",
    "else:\n",
    "    print('¡Nada que ver aquí!')"
   ]
  },
  {
   "cell_type": "markdown",
   "metadata": {},
   "source": [
    "# Ejercicio 3"
   ]
  },
  {
   "cell_type": "code",
   "execution_count": 5,
   "metadata": {},
   "outputs": [
    {
     "name": "stdout",
     "output_type": "stream",
     "text": [
      "10\n",
      "10\n",
      "Un asteroide entrara a la atmosfera\n"
     ]
    }
   ],
   "source": [
    "velocidad = int(input())\n",
    "tamano = int(input())\n",
    "\n",
    "print(velocidad)\n",
    "print(tamano)\n",
    "\n",
    "if velocidad >= 25 and tamano >= 25:\n",
    "    print('Alerta!, un asteroide de gran tamano y a gran velociad se acera!')\n",
    "elif tamano <=25 and velocidad >= 25:\n",
    "    print('atencion!, un asteroide provocara un rayo de luz por su entrada al cielo')\n",
    "elif tamano <= 20 and velocidad <=20:\n",
    "    print('Un asteroide entrara a la atmosfera')\n",
    "else:\n",
    "    print('El cielo esta muy tranquilo')"
   ]
  }
 ],
 "metadata": {
  "interpreter": {
   "hash": "aecd030d4c8316a52bf122072e28f84bcc79844c2684e041fef2e3f1d9f59078"
  },
  "kernelspec": {
   "display_name": "Python 3.10.0 64-bit",
   "language": "python",
   "name": "python3"
  },
  "language_info": {
   "codemirror_mode": {
    "name": "ipython",
    "version": 3
   },
   "file_extension": ".py",
   "mimetype": "text/x-python",
   "name": "python",
   "nbconvert_exporter": "python",
   "pygments_lexer": "ipython3",
   "version": "3.10.0"
  },
  "orig_nbformat": 4
 },
 "nbformat": 4,
 "nbformat_minor": 2
}
