{
 "cells": [
  {
   "cell_type": "markdown",
   "metadata": {},
   "source": [
    "# Ejercicio 1"
   ]
  },
  {
   "cell_type": "code",
   "execution_count": 3,
   "metadata": {},
   "outputs": [],
   "source": [
    "primerPlaneta = 149597870\n",
    "segundoPlaneta = 778547200"
   ]
  },
  {
   "cell_type": "code",
   "execution_count": 5,
   "metadata": {},
   "outputs": [
    {
     "name": "stdout",
     "output_type": "stream",
     "text": [
      "La distancia en Km es: 628949330\n",
      "La distancia en Millas es: 390577533.93\n"
     ]
    }
   ],
   "source": [
    "distanciaKm = segundoPlaneta - primerPlaneta\n",
    "print('La distancia en Km es: ' + str(distanciaKm))\n",
    "distanciaMillas = distanciaKm * 0.621\n",
    "print('La distancia en Millas es: ' + str(distanciaMillas))\n"
   ]
  },
  {
   "cell_type": "markdown",
   "metadata": {},
   "source": [
    "# Ejercicio 2\n"
   ]
  },
  {
   "cell_type": "code",
   "execution_count": 6,
   "metadata": {},
   "outputs": [],
   "source": [
    "planetaUno = int(input('Distancia del primer planeta?'))\n",
    "planetaDos = int(input('Distancia del segundo planeta?'))"
   ]
  },
  {
   "cell_type": "code",
   "execution_count": 8,
   "metadata": {},
   "outputs": [
    {
     "name": "stdout",
     "output_type": "stream",
     "text": [
      "La distancia en Km es: 1375600000\n",
      "La distancia en Millas es: \n",
      "854247600.0\n"
     ]
    }
   ],
   "source": [
    "distancia_km = planetaDos - planetaUno\n",
    "print('La distancia en Km es: ' + str(distancia_km))\n",
    "distancia_millas = distancia_km * 0.621\n",
    "print('La distancia en Millas es: ')\n",
    "print(abs(distancia_millas))"
   ]
  }
 ],
 "metadata": {
  "interpreter": {
   "hash": "aecd030d4c8316a52bf122072e28f84bcc79844c2684e041fef2e3f1d9f59078"
  },
  "kernelspec": {
   "display_name": "Python 3.10.0 64-bit",
   "language": "python",
   "name": "python3"
  },
  "language_info": {
   "codemirror_mode": {
    "name": "ipython",
    "version": 3
   },
   "file_extension": ".py",
   "mimetype": "text/x-python",
   "name": "python",
   "nbconvert_exporter": "python",
   "pygments_lexer": "ipython3",
   "version": "3.10.0"
  },
  "orig_nbformat": 4
 },
 "nbformat": 4,
 "nbformat_minor": 2
}
