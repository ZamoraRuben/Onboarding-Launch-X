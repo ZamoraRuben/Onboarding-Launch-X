{
 "cells": [
  {
   "cell_type": "markdown",
   "metadata": {},
   "source": [
    "# Ejercicio 1\n"
   ]
  },
  {
   "cell_type": "code",
   "execution_count": 9,
   "metadata": {},
   "outputs": [],
   "source": [
    "def reporte_combustible(tanqueUno, tanqueDos, tanqueTres):\n",
    "    promedioCombustible = (tanqueUno + tanqueDos + tanqueTres) / 3\n",
    "    return f\"\"\" Reporte de combustible: \n",
    "    Promedio del combustible: {promedioCombustible}%\n",
    "    Tanque uno: {tanqueUno}%\n",
    "    Tanque Dos: {tanqueDos}%\n",
    "    Tanque Tres: {tanqueTres}% \n",
    "    \"\"\""
   ]
  },
  {
   "cell_type": "code",
   "execution_count": 10,
   "metadata": {},
   "outputs": [
    {
     "name": "stdout",
     "output_type": "stream",
     "text": [
      " Reporte de combustible: \n",
      "    Promedio del combustible: 78.33333333333333%\n",
      "    Tanque uno: 80%\n",
      "    Tanque Dos: 70%\n",
      "    Tanque Tres: 85% \n",
      "    \n"
     ]
    }
   ],
   "source": [
    "print(reporte_combustible(80, 70, 85))"
   ]
  },
  {
   "cell_type": "code",
   "execution_count": 11,
   "metadata": {},
   "outputs": [
    {
     "data": {
      "text/plain": [
       "78.33333333333333"
      ]
     },
     "execution_count": 11,
     "metadata": {},
     "output_type": "execute_result"
    }
   ],
   "source": [
    "def promedioIndividual(valores):\n",
    "    total = sum(valores)\n",
    "    cantidadValores = len(valores)\n",
    "    return total / cantidadValores\n",
    "\n",
    "promedioIndividual([80, 70, 85]) "
   ]
  },
  {
   "cell_type": "code",
   "execution_count": 12,
   "metadata": {},
   "outputs": [
    {
     "name": "stdout",
     "output_type": "stream",
     "text": [
      " Reporte de combustible: \n",
      "    Promedio del combustible: 78.33333333333333%\n",
      "    Tanque uno: 80%\n",
      "    Tanque Dos: 70%\n",
      "    Tanque Tres: 85% \n",
      "    \n"
     ]
    }
   ],
   "source": [
    "def reporte_combustible(tanqueUno, tanqueDos, tanqueTres):\n",
    "    return f\"\"\" Reporte de combustible: \n",
    "    Promedio del combustible: {promedioIndividual([tanqueUno, tanqueDos, tanqueTres])}%\n",
    "    Tanque uno: {tanqueUno}%\n",
    "    Tanque Dos: {tanqueDos}%\n",
    "    Tanque Tres: {tanqueTres}% \n",
    "    \"\"\"\n",
    "\n",
    "print(reporte_combustible(80, 70, 85))"
   ]
  },
  {
   "cell_type": "markdown",
   "metadata": {},
   "source": [
    "# Ejercicio 2"
   ]
  },
  {
   "cell_type": "code",
   "execution_count": 14,
   "metadata": {},
   "outputs": [
    {
     "name": "stdout",
     "output_type": "stream",
     "text": [
      "\n",
      "    Mision a Marte\n",
      "    Tiempo total del vuelo: 65 minutos\n",
      "    Combustible Restante: 500000 galones\n",
      "    \n"
     ]
    }
   ],
   "source": [
    "def reporte_mision(pre_lanzamiento, tiempo_vuelo, destino, tanque_externo, tanque_principal):\n",
    "    return f\"\"\"\n",
    "    Mision a {destino}\n",
    "    Tiempo total del vuelo: {pre_lanzamiento + tiempo_vuelo} minutos\n",
    "    Combustible Restante: {tanque_externo + tanque_principal} galones\n",
    "    \"\"\"\n",
    "\n",
    "print(reporte_mision(14, 51, \"Marte\", 200000, 300000))"
   ]
  },
  {
   "cell_type": "code",
   "execution_count": 17,
   "metadata": {},
   "outputs": [
    {
     "name": "stdout",
     "output_type": "stream",
     "text": [
      "\n",
      "    Mision a Marte\n",
      "    Tiempo total de vuelo: 65 minutos\n",
      "    Combustible restante: 500000\n",
      "    \n"
     ]
    }
   ],
   "source": [
    "def reporte_mision(destino, *minutos, **reserva_combustible):\n",
    "    return f\"\"\"\n",
    "    Mision a {destino}\n",
    "    Tiempo total de vuelo: {sum(minutos)} minutos\n",
    "    Combustible restante: {sum(reserva_combustible.values())}\n",
    "    \"\"\"\n",
    "\n",
    "print(reporte_mision(\"Marte\", 14, 51, principal=300000, externo=200000))"
   ]
  },
  {
   "cell_type": "code",
   "execution_count": 24,
   "metadata": {},
   "outputs": [
    {
     "name": "stdout",
     "output_type": "stream",
     "text": [
      "\n",
      "    Mision a Marte\n",
      "    Tiempo total de vuelo: 65 minutos\n",
      "    Combustible restante: 500000\n",
      "    tanque principal tanque --> 300000 galones restantes\n",
      "tanque externo tanque --> 200000 galones restantes\n",
      "\n"
     ]
    }
   ],
   "source": [
    "def reporte_mision(destino, *minutos, **reserva_combustible):\n",
    "    reportePrincipal = f\"\"\"\n",
    "    Mision a {destino}\n",
    "    Tiempo total de vuelo: {sum(minutos)} minutos\n",
    "    Combustible restante: {sum(reserva_combustible.values())}\n",
    "    \"\"\"\n",
    "    for nombreTanque, galones in reserva_combustible.items():\n",
    "        reportePrincipal += f\"tanque {nombreTanque} tanque --> {galones} galones restantes\\n\"\n",
    "    return reportePrincipal\n",
    "\n",
    "print(reporte_mision(\"Marte\", 14, 51, principal=300000, externo=200000))"
   ]
  }
 ],
 "metadata": {
  "interpreter": {
   "hash": "aecd030d4c8316a52bf122072e28f84bcc79844c2684e041fef2e3f1d9f59078"
  },
  "kernelspec": {
   "display_name": "Python 3.10.0 64-bit",
   "language": "python",
   "name": "python3"
  },
  "language_info": {
   "codemirror_mode": {
    "name": "ipython",
    "version": 3
   },
   "file_extension": ".py",
   "mimetype": "text/x-python",
   "name": "python",
   "nbconvert_exporter": "python",
   "pygments_lexer": "ipython3",
   "version": "3.10.0"
  },
  "orig_nbformat": 4
 },
 "nbformat": 4,
 "nbformat_minor": 2
}
